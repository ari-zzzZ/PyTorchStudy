{
 "cells": [
  {
   "cell_type": "code",
   "execution_count": 1,
   "metadata": {},
   "outputs": [],
   "source": [
    "import torch\n",
    "\n",
    "x=torch.ones(5)#input tensor\n",
    "y=torch.zeros(3)#expected output\n",
    "w=torch.randn(5,3,requires_grad=True)\n",
    "b=torch.randn(3,requires_grad=True)\n",
    "z=torch.matmul(x,w)+b\n",
    "loss=torch.nn.functional.binary_cross_entropy_with_logits(z,y)\n"
   ]
  },
  {
   "cell_type": "markdown",
   "metadata": {},
   "source": [
    "You can set the value of requires_grad when creating a tensor, or later by using x.requires_grad_(True) method."
   ]
  },
  {
   "cell_type": "code",
   "execution_count": 2,
   "metadata": {},
   "outputs": [
    {
     "name": "stdout",
     "output_type": "stream",
     "text": [
      "Gradient function for z = <AddBackward0 object at 0x00000207255C45B0>\n",
      "Gradient function for loss = <BinaryCrossEntropyWithLogitsBackward0 object at 0x00000207255C4100>\n"
     ]
    }
   ],
   "source": [
    "print(f\"Gradient function for z = {z.grad_fn}\")\n",
    "print(f\"Gradient function for loss = {loss.grad_fn}\")"
   ]
  },
  {
   "cell_type": "code",
   "execution_count": 3,
   "metadata": {},
   "outputs": [
    {
     "name": "stdout",
     "output_type": "stream",
     "text": [
      "tensor([[0.0731, 0.3099, 0.0931],\n",
      "        [0.0731, 0.3099, 0.0931],\n",
      "        [0.0731, 0.3099, 0.0931],\n",
      "        [0.0731, 0.3099, 0.0931],\n",
      "        [0.0731, 0.3099, 0.0931]])\n",
      "tensor([0.0731, 0.3099, 0.0931])\n"
     ]
    }
   ],
   "source": [
    "loss.backward()\n",
    "print(w.grad)\n",
    "print(b.grad)"
   ]
  },
  {
   "cell_type": "markdown",
   "metadata": {},
   "source": [
    "我们只能获取grad计算图的叶节点的属性，这些节点的requires_grad属性设置为True。对于图中的所有其他节点，梯度将不可用。\n",
    "\n",
    "出于性能原因，我们只能 backward在给定的图上使用一次来执行梯度计算。如果我们需要backward在同一张图上进行多次调用，则需要传递 retain_graph=True给backward调用。"
   ]
  },
  {
   "cell_type": "markdown",
   "metadata": {},
   "source": [
    "禁用梯度追踪\n",
    "\n",
    "默认情况下，所有张量都requires_grad=True跟踪其计算历史并支持梯度计算。但是，有些情况下我们不需要这样做，例如，当我们已经训练了模型并只想将其应用于一些输入数据时，即我们只想通过网络进行前向计算。我们可以通过在计算代码周围添加 torch.no_grad()块来停止跟踪计算：\n",
    "\n",
    "您可能出于以下原因想要禁用梯度跟踪：\n",
    "将神经网络中的某些参数标记为冻结参数。\n",
    "\n",
    "当您仅进行前向传递时，可以加快计算速度，因为不跟踪梯度的张量的计算会更有效率。"
   ]
  },
  {
   "cell_type": "code",
   "execution_count": 4,
   "metadata": {},
   "outputs": [
    {
     "name": "stdout",
     "output_type": "stream",
     "text": [
      "True\n",
      "False\n"
     ]
    }
   ],
   "source": [
    "z = torch.matmul(x, w)+b\n",
    "print(z.requires_grad)\n",
    "\n",
    "with torch.no_grad():\n",
    "    z = torch.matmul(x, w)+b\n",
    "print(z.requires_grad)"
   ]
  }
 ],
 "metadata": {
  "kernelspec": {
   "display_name": "pytorchstudy",
   "language": "python",
   "name": "python3"
  },
  "language_info": {
   "codemirror_mode": {
    "name": "ipython",
    "version": 3
   },
   "file_extension": ".py",
   "mimetype": "text/x-python",
   "name": "python",
   "nbconvert_exporter": "python",
   "pygments_lexer": "ipython3",
   "version": "3.10.16"
  }
 },
 "nbformat": 4,
 "nbformat_minor": 2
}
