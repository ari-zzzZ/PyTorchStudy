{
 "cells": [
  {
   "cell_type": "code",
   "execution_count": 1,
   "metadata": {},
   "outputs": [],
   "source": [
    "import os\n",
    "import torch\n",
    "from torch import nn\n",
    "from torch.utils.data import DataLoader\n",
    "from torchvision import datasets, transforms"
   ]
  },
  {
   "cell_type": "code",
   "execution_count": 2,
   "metadata": {},
   "outputs": [
    {
     "name": "stdout",
     "output_type": "stream",
     "text": [
      "Using cuda device\n"
     ]
    }
   ],
   "source": [
    "device = \"cuda\" if torch.cuda.is_available() else \"cpu\"\n",
    "print(f\"Using {device} device\")\n"
   ]
  },
  {
   "cell_type": "code",
   "execution_count": 3,
   "metadata": {},
   "outputs": [],
   "source": [
    "class NeuralNetwork(nn.Module):\n",
    "    def __init__(self):\n",
    "        super().__init__()\n",
    "        self.flatten=nn.Flatten()\n",
    "        self.Linear_relu_stack=nn.Sequential(\n",
    "            nn.Linear(28*28, 512),\n",
    "            nn.ReLU(),\n",
    "            nn.Linear(512, 512),\n",
    "            nn.ReLU(),\n",
    "            nn.Linear(512,10),\n",
    "        )\n",
    "    \n",
    "    def forward(self,x):\n",
    "        x=self.flatten(x)\n",
    "        logits = self.Linear_relu_stack(x)\n",
    "        return logits\n",
    "        "
   ]
  },
  {
   "cell_type": "markdown",
   "metadata": {},
   "source": [
    "create an instance of the neuralnetwork, move it to the device, print its structure."
   ]
  },
  {
   "cell_type": "code",
   "execution_count": 4,
   "metadata": {},
   "outputs": [
    {
     "name": "stdout",
     "output_type": "stream",
     "text": [
      "NeuralNetwork(\n",
      "  (flatten): Flatten(start_dim=1, end_dim=-1)\n",
      "  (Linear_relu_stack): Sequential(\n",
      "    (0): Linear(in_features=784, out_features=512, bias=True)\n",
      "    (1): ReLU()\n",
      "    (2): Linear(in_features=512, out_features=512, bias=True)\n",
      "    (3): ReLU()\n",
      "    (4): Linear(in_features=512, out_features=10, bias=True)\n",
      "  )\n",
      ")\n"
     ]
    }
   ],
   "source": [
    "model = NeuralNetwork().to(device)\n",
    "print(model)"
   ]
  },
  {
   "cell_type": "code",
   "execution_count": 5,
   "metadata": {},
   "outputs": [
    {
     "name": "stdout",
     "output_type": "stream",
     "text": [
      "Predicted class: tensor([7], device='cuda:0')\n"
     ]
    }
   ],
   "source": [
    "X = torch.rand(1, 28, 28, device=device)\n",
    "logits = model(X)\n",
    "pred_probab = nn.Softmax(dim=1)(logits)\n",
    "y_pred = pred_probab.argmax(1)\n",
    "print(f\"Predicted class: {y_pred}\")"
   ]
  },
  {
   "cell_type": "markdown",
   "metadata": {},
   "source": [
    "break down the layers in the FashionMNIST model. take a sample minibatch of 3 images of size 28x28"
   ]
  },
  {
   "cell_type": "code",
   "execution_count": 12,
   "metadata": {},
   "outputs": [
    {
     "data": {
      "text/plain": [
       "torch.Size([3, 28, 28])"
      ]
     },
     "execution_count": 12,
     "metadata": {},
     "output_type": "execute_result"
    }
   ],
   "source": [
    "input_image = torch.rand(3,28,28)\n",
    "input_image.size()"
   ]
  },
  {
   "cell_type": "markdown",
   "metadata": {},
   "source": [
    "nn.Flatten\n",
    "初始化nn.Flatten 层以将每个 2D 28x28 图像转换为 784 个像素值的连续数组"
   ]
  },
  {
   "cell_type": "code",
   "execution_count": 13,
   "metadata": {},
   "outputs": [
    {
     "data": {
      "text/plain": [
       "torch.Size([3, 784])"
      ]
     },
     "execution_count": 13,
     "metadata": {},
     "output_type": "execute_result"
    }
   ],
   "source": [
    "flatten=nn.Flatten()\n",
    "flat_image=flatten(input_image)\n",
    "flat_image.size()"
   ]
  },
  {
   "cell_type": "code",
   "execution_count": 14,
   "metadata": {},
   "outputs": [
    {
     "data": {
      "text/plain": [
       "torch.Size([3, 20])"
      ]
     },
     "execution_count": 14,
     "metadata": {},
     "output_type": "execute_result"
    }
   ],
   "source": [
    "layer1=nn.Linear(in_features=28*28, out_features=20)\n",
    "hidden1=layer1(flat_image)\n",
    "hidden1.size()"
   ]
  },
  {
   "cell_type": "code",
   "execution_count": 15,
   "metadata": {},
   "outputs": [
    {
     "name": "stdout",
     "output_type": "stream",
     "text": [
      "Before ReLU: tensor([[-3.0480e-01, -6.4209e-01, -3.1167e-02, -4.5384e-01, -1.6195e-01,\n",
      "         -6.8060e-02,  4.7512e-02,  3.4197e-01, -4.1258e-01, -1.3396e-02,\n",
      "         -2.7300e-01, -6.1636e-01, -1.5693e-01,  3.9113e-01, -7.9851e-02,\n",
      "         -2.2557e-02,  6.9878e-02,  6.2375e-02, -1.5781e-01, -4.0364e-01],\n",
      "        [ 2.1244e-01, -4.9040e-01,  1.9759e-01, -1.7991e-01, -1.1555e-01,\n",
      "         -3.6057e-01,  1.6662e-01, -1.0456e-01, -4.4572e-01,  1.6975e-01,\n",
      "         -4.7361e-01, -4.9076e-01, -4.9088e-01,  1.6670e-01,  1.1785e-01,\n",
      "         -1.1793e-01, -6.3019e-03, -1.5207e-01, -2.6823e-01, -4.7267e-01],\n",
      "        [ 6.2773e-02, -2.3342e-01, -7.5545e-02, -2.1736e-01,  3.3754e-04,\n",
      "          4.7262e-02, -9.2463e-02,  2.7402e-01, -6.4151e-01,  1.9905e-01,\n",
      "         -1.7203e-01, -4.8895e-01, -3.9293e-01,  1.0762e-01, -1.2977e-01,\n",
      "          1.2263e-01,  1.8374e-01, -2.4334e-01, -1.1455e-01, -2.8567e-01]],\n",
      "       grad_fn=<AddmmBackward0>)\n",
      "\n",
      "\n",
      "After ReLU: tensor([[0.0000e+00, 0.0000e+00, 0.0000e+00, 0.0000e+00, 0.0000e+00, 0.0000e+00,\n",
      "         4.7512e-02, 3.4197e-01, 0.0000e+00, 0.0000e+00, 0.0000e+00, 0.0000e+00,\n",
      "         0.0000e+00, 3.9113e-01, 0.0000e+00, 0.0000e+00, 6.9878e-02, 6.2375e-02,\n",
      "         0.0000e+00, 0.0000e+00],\n",
      "        [2.1244e-01, 0.0000e+00, 1.9759e-01, 0.0000e+00, 0.0000e+00, 0.0000e+00,\n",
      "         1.6662e-01, 0.0000e+00, 0.0000e+00, 1.6975e-01, 0.0000e+00, 0.0000e+00,\n",
      "         0.0000e+00, 1.6670e-01, 1.1785e-01, 0.0000e+00, 0.0000e+00, 0.0000e+00,\n",
      "         0.0000e+00, 0.0000e+00],\n",
      "        [6.2773e-02, 0.0000e+00, 0.0000e+00, 0.0000e+00, 3.3754e-04, 4.7262e-02,\n",
      "         0.0000e+00, 2.7402e-01, 0.0000e+00, 1.9905e-01, 0.0000e+00, 0.0000e+00,\n",
      "         0.0000e+00, 1.0762e-01, 0.0000e+00, 1.2263e-01, 1.8374e-01, 0.0000e+00,\n",
      "         0.0000e+00, 0.0000e+00]], grad_fn=<ReluBackward0>)\n"
     ]
    }
   ],
   "source": [
    "print(f\"Before ReLU: {hidden1}\\n\\n\")\n",
    "hidden1 = nn.ReLU()(hidden1)\n",
    "print(f\"After ReLU: {hidden1}\")"
   ]
  },
  {
   "cell_type": "code",
   "execution_count": 17,
   "metadata": {},
   "outputs": [
    {
     "data": {
      "text/plain": [
       "tensor([[ 0.0707,  0.1767, -0.1456, -0.1892,  0.1747,  0.2061, -0.0609, -0.0098,\n",
       "         -0.1292, -0.1643],\n",
       "        [ 0.0450,  0.1481, -0.1156, -0.1462,  0.1829,  0.2127, -0.0578,  0.0908,\n",
       "         -0.0947, -0.1579],\n",
       "        [-0.0094,  0.1359, -0.1031, -0.1675,  0.1794,  0.2965, -0.1121,  0.0648,\n",
       "         -0.1527, -0.0813]], grad_fn=<AddmmBackward0>)"
      ]
     },
     "execution_count": 17,
     "metadata": {},
     "output_type": "execute_result"
    }
   ],
   "source": [
    "seq_modules = nn.Sequential(\n",
    "    flatten,\n",
    "    layer1,\n",
    "    nn.ReLU(),\n",
    "    nn.Linear(20, 10)\n",
    ")\n",
    "input_image = torch.rand(3,28,28)\n",
    "logits = seq_modules(input_image)\n",
    "\n",
    "logits"
   ]
  },
  {
   "cell_type": "code",
   "execution_count": 19,
   "metadata": {},
   "outputs": [
    {
     "data": {
      "text/plain": [
       "tensor([[0.1069, 0.1189, 0.0861, 0.0825, 0.1186, 0.1224, 0.0937, 0.0987, 0.0876,\n",
       "         0.0845],\n",
       "        [0.1025, 0.1137, 0.0873, 0.0847, 0.1177, 0.1213, 0.0925, 0.1074, 0.0892,\n",
       "         0.0837],\n",
       "        [0.0974, 0.1127, 0.0887, 0.0832, 0.1177, 0.1323, 0.0879, 0.1049, 0.0844,\n",
       "         0.0907]], grad_fn=<SoftmaxBackward0>)"
      ]
     },
     "execution_count": 19,
     "metadata": {},
     "output_type": "execute_result"
    }
   ],
   "source": [
    "softmax = nn.Softmax(dim=1)\n",
    "pred_probab = softmax(logits)\n"
   ]
  },
  {
   "cell_type": "code",
   "execution_count": 20,
   "metadata": {},
   "outputs": [
    {
     "name": "stdout",
     "output_type": "stream",
     "text": [
      "Model structure: NeuralNetwork(\n",
      "  (flatten): Flatten(start_dim=1, end_dim=-1)\n",
      "  (Linear_relu_stack): Sequential(\n",
      "    (0): Linear(in_features=784, out_features=512, bias=True)\n",
      "    (1): ReLU()\n",
      "    (2): Linear(in_features=512, out_features=512, bias=True)\n",
      "    (3): ReLU()\n",
      "    (4): Linear(in_features=512, out_features=10, bias=True)\n",
      "  )\n",
      ")\n",
      "\n",
      "\n",
      "Layer: Linear_relu_stack.0.weight | Size: torch.Size([512, 784]) | Values : tensor([[-0.0331, -0.0097,  0.0270,  ..., -0.0234, -0.0236,  0.0085],\n",
      "        [ 0.0207, -0.0301,  0.0254,  ..., -0.0062, -0.0146, -0.0312]],\n",
      "       device='cuda:0', grad_fn=<SliceBackward0>) \n",
      "\n",
      "Layer: Linear_relu_stack.0.bias | Size: torch.Size([512]) | Values : tensor([-0.0173, -0.0142], device='cuda:0', grad_fn=<SliceBackward0>) \n",
      "\n",
      "Layer: Linear_relu_stack.2.weight | Size: torch.Size([512, 512]) | Values : tensor([[ 0.0286,  0.0064, -0.0079,  ..., -0.0251,  0.0175, -0.0170],\n",
      "        [-0.0039, -0.0054,  0.0276,  ...,  0.0377, -0.0287,  0.0249]],\n",
      "       device='cuda:0', grad_fn=<SliceBackward0>) \n",
      "\n",
      "Layer: Linear_relu_stack.2.bias | Size: torch.Size([512]) | Values : tensor([-0.0351,  0.0080], device='cuda:0', grad_fn=<SliceBackward0>) \n",
      "\n",
      "Layer: Linear_relu_stack.4.weight | Size: torch.Size([10, 512]) | Values : tensor([[ 0.0309, -0.0089, -0.0116,  ..., -0.0416, -0.0318, -0.0134],\n",
      "        [ 0.0369,  0.0214, -0.0317,  ..., -0.0271, -0.0149, -0.0223]],\n",
      "       device='cuda:0', grad_fn=<SliceBackward0>) \n",
      "\n",
      "Layer: Linear_relu_stack.4.bias | Size: torch.Size([10]) | Values : tensor([-0.0049, -0.0007], device='cuda:0', grad_fn=<SliceBackward0>) \n",
      "\n"
     ]
    }
   ],
   "source": [
    "print(f\"Model structure: {model}\\n\\n\")\n",
    "\n",
    "for name, param in model.named_parameters():\n",
    "    print(f\"Layer: {name} | Size: {param.size()} | Values : {param[:2]} \\n\")"
   ]
  }
 ],
 "metadata": {
  "kernelspec": {
   "display_name": "pytorchstudy",
   "language": "python",
   "name": "python3"
  },
  "language_info": {
   "codemirror_mode": {
    "name": "ipython",
    "version": 3
   },
   "file_extension": ".py",
   "mimetype": "text/x-python",
   "name": "python",
   "nbconvert_exporter": "python",
   "pygments_lexer": "ipython3",
   "version": "3.10.16"
  }
 },
 "nbformat": 4,
 "nbformat_minor": 2
}
