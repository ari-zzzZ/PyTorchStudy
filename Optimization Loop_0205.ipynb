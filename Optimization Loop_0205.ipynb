{
 "cells": [
  {
   "cell_type": "code",
   "execution_count": 1,
   "metadata": {},
   "outputs": [],
   "source": [
    "import torch\n",
    "from torch import nn\n",
    "from torch.utils.data import DataLoader\n",
    "from torchvision import datasets\n",
    "from torchvision.transforms import ToTensor\n",
    "\n",
    "training_data = datasets.FashionMNIST(\n",
    "    root=\"data\",\n",
    "    train=True,\n",
    "    download=True,\n",
    "    transform=ToTensor()\n",
    ")\n",
    "\n",
    "test_data = datasets.FashionMNIST(\n",
    "    root=\"data\",\n",
    "    train=False,\n",
    "    download=True,\n",
    "    transform=ToTensor()\n",
    ")"
   ]
  },
  {
   "cell_type": "code",
   "execution_count": 2,
   "metadata": {},
   "outputs": [
    {
     "name": "stdout",
     "output_type": "stream",
     "text": [
      "Using cuda for training\n"
     ]
    },
    {
     "data": {
      "text/plain": [
       "'cuda'"
      ]
     },
     "execution_count": 2,
     "metadata": {},
     "output_type": "execute_result"
    }
   ],
   "source": [
    "device = \"cuda\" if torch.cuda.is_available() else \"cpu\"\n",
    "print(f\"Using {device} for training\")\n",
    "device"
   ]
  },
  {
   "cell_type": "code",
   "execution_count": 3,
   "metadata": {},
   "outputs": [
    {
     "name": "stdout",
     "output_type": "stream",
     "text": [
      "24\n"
     ]
    }
   ],
   "source": [
    "import multiprocessing; print(multiprocessing.cpu_count()) # 打印 CPU 核心数"
   ]
  },
  {
   "cell_type": "code",
   "execution_count": 4,
   "metadata": {},
   "outputs": [],
   "source": [
    "#train_dataloader=DataLoader(training_data, batch_size=64)\n",
    "#test_dataloader=DataLoader(test_data, batch_size=64)\n",
    "train_dataloader = DataLoader(training_data, batch_size=64, shuffle=True, num_workers=4, pin_memory=True)\n",
    "test_dataloader = DataLoader(test_data, batch_size=64, shuffle=False, num_workers=4, pin_memory=True)"
   ]
  },
  {
   "cell_type": "markdown",
   "metadata": {},
   "source": [
    "这两行代码是用 PyTorch 的 DataLoader 来封装 FashionMNIST 数据集，用于 高效加载数据。相比于原始的 DataLoader(training_data, batch_size=64)，新代码引入了 shuffle=True、num_workers=4 和 pin_memory=True，这些参数可以 提高数据加载的速度和训练效率。\n",
    "\n",
    "DataLoader 负责：\n",
    "批量加载数据（Batching）\n",
    "随机打乱数据（Shuffling）\n",
    "并行加载数据（num_workers）\n",
    "优化 GPU 训练数据传输（pin_memory）\n",
    "\n",
    "\n",
    "batch_size=64\t批量大小\t每次加载 64 张图片，减少显存占用，提高 GPU 利用率；\n",
    "shuffle=True\t随机打乱\t训练集打乱数据，避免模型过拟合到数据顺序，提高泛化能力；\n",
    "shuffle=False\t不打乱\t测试集不打乱数据，确保评估指标稳定；\n",
    "num_workers=4\t多线程数据加载\t使用 4 个 CPU 线程并行加载数据，加速训练（通常等于CPU核心数的一半）；\n",
    "pin_memory=True\t固定内存\t预加载到 固定 CPU 内存，加速 GPU 数据传输，提高性能, GPU训练时推荐开启。"
   ]
  },
  {
   "cell_type": "code",
   "execution_count": 5,
   "metadata": {},
   "outputs": [
    {
     "data": {
      "text/plain": [
       "NeuralNetwork(\n",
       "  (flatten): Flatten(start_dim=1, end_dim=-1)\n",
       "  (linear_relu_stack): Sequential(\n",
       "    (0): Linear(in_features=784, out_features=512, bias=True)\n",
       "    (1): ReLU()\n",
       "    (2): Linear(in_features=512, out_features=512, bias=True)\n",
       "    (3): ReLU()\n",
       "    (4): Linear(in_features=512, out_features=10, bias=True)\n",
       "  )\n",
       ")"
      ]
     },
     "execution_count": 5,
     "metadata": {},
     "output_type": "execute_result"
    }
   ],
   "source": [
    "class NeuralNetwork(nn.Module):#define NeutralNnetwork\n",
    "    def __init__(self):\n",
    "        super().__init__()\n",
    "        self.flatten=nn.Flatten()\n",
    "        self.linear_relu_stack=nn.Sequential(\n",
    "            nn.Linear(28*28, 512),\n",
    "            nn.ReLU(),\n",
    "            nn.Linear(512, 512),\n",
    "            nn.ReLU(),\n",
    "            nn.Linear(512, 10),\n",
    "        )\n",
    "\n",
    "    def forward(self,x):\n",
    "        x=self.flatten(x)\n",
    "        logits=self.linear_relu_stack(x)\n",
    "        return logits\n",
    "    \n",
    "model = NeuralNetwork()\n",
    "model.to(device)#把model搬到GPU"
   ]
  },
  {
   "cell_type": "code",
   "execution_count": 6,
   "metadata": {},
   "outputs": [],
   "source": [
    "learning_rate=1e-3\n",
    "batch_size=64#这行可删，dataloader里面的batchsize才算数\n",
    "epochs=5"
   ]
  },
  {
   "cell_type": "code",
   "execution_count": 7,
   "metadata": {},
   "outputs": [],
   "source": [
    "loss_fn=nn.CrossEntropyLoss()"
   ]
  },
  {
   "cell_type": "code",
   "execution_count": 8,
   "metadata": {},
   "outputs": [],
   "source": [
    "optimizer=torch.optim.SGD(model.parameters(), lr=learning_rate)"
   ]
  },
  {
   "cell_type": "code",
   "execution_count": 9,
   "metadata": {},
   "outputs": [],
   "source": [
    "def train_loop(dataloader, model, loss_fn, optimizer):\n",
    "    size=len(dataloader.dataset) # 训练集总样本数\n",
    "    model.train()\n",
    "# Set the model to training mode - important for batch normalization and dropout layers\n",
    "    # Unnecessary in this situation but added for best practices\n",
    "\n",
    "    \n",
    "    for batch, (X,y)in enumerate(dataloader):#遍历数据加载器，取出 batch_size 大小的数据\n",
    "        X, y = X.to(device), y.to(device)  #  让数据移动到 GPU\n",
    "        # Compute prediction and loss\n",
    "        pred=model(X)#前向传播，得到predicted output\n",
    "        loss = loss_fn(pred, y)#计算损失\n",
    "\n",
    "        # Backpropagation\n",
    "        loss.backward()#计算梯度\n",
    "        optimizer.step()#利用优化器更新参数\n",
    "        optimizer.zero_grad()#清空梯度，防止梯度累积\n",
    "\n",
    "        #每100个batch输出一次损失\n",
    "        if batch%100 == 0:\n",
    "            loss, current =loss.item(), batch*batch_size+len(X)\n",
    "            print(f\"loss: {loss:>7f}  [{current:>5d}/{size:>5d}]\")\n",
    "            "
   ]
  },
  {
   "cell_type": "code",
   "execution_count": 10,
   "metadata": {},
   "outputs": [],
   "source": [
    "from tqdm import tqdm#加个进度条\n",
    "def test_loop(dataloader,model,loss_fn):\n",
    "    # Set the model to evaluation mode - important for batch normalization and dropout layers\n",
    "    # Unnecessary in this situation but added for best practices\n",
    "    model.eval()\n",
    "    size=len(dataloader.dataset)\n",
    "    num_batches=len(dataloader)\n",
    "    test_loss, correct=0,0#初始化损失和正确分类计数\n",
    "\n",
    "    # Evaluating the model with torch.no_grad() ensures that no gradients are computed during test mode\n",
    "    # also serves to reduce unnecessary gradient computations and memory usage for tensors with requires_grad=True\n",
    "    with torch.no_grad():#关闭梯度计算\n",
    "        for X, y in dataloader:\n",
    "            X, y = X.to(device), y.to(device)  #  让数据移动到 GPU\n",
    "            pred=model(X)#前向传播\n",
    "            test_loss+=loss_fn(pred,y).item()#累计损失\n",
    "            correct+=(pred.argmax(1)==y).type(torch.float).sum().item()\n",
    "            '''pred.argmax(1): 获取每个样本预测的类别（取最大概率的索引）\n",
    "(pred.argmax(1) == y).type(torch.float).sum().item(): 计算 预测正确的样本数 并累加到 correct'''\n",
    "\n",
    "    test_loss/=num_batches\n",
    "    correct/=size\n",
    "    print(f\"Test Error: \\n Accuracy: {(100*correct):>0.1f}%, Avg loss: {test_loss:>8f} \\n\")\n",
    "     "
   ]
  },
  {
   "cell_type": "code",
   "execution_count": 11,
   "metadata": {},
   "outputs": [
    {
     "name": "stdout",
     "output_type": "stream",
     "text": [
      "Epoch 1\n",
      "-------------------------------\n",
      "loss: 2.295863  [   64/60000]\n",
      "loss: 2.288517  [ 6464/60000]\n",
      "loss: 2.266764  [12864/60000]\n",
      "loss: 2.257055  [19264/60000]\n",
      "loss: 2.236307  [25664/60000]\n",
      "loss: 2.222915  [32064/60000]\n",
      "loss: 2.222806  [38464/60000]\n",
      "loss: 2.197294  [44864/60000]\n",
      "loss: 2.175478  [51264/60000]\n",
      "loss: 2.135356  [57664/60000]\n",
      "Test Error: \n",
      " Accuracy: 35.1%, Avg loss: 2.148313 \n",
      "\n",
      "Epoch 2\n",
      "-------------------------------\n",
      "loss: 2.147570  [   64/60000]\n",
      "loss: 2.164401  [ 6464/60000]\n",
      "loss: 2.122908  [12864/60000]\n",
      "loss: 2.063793  [19264/60000]\n",
      "loss: 2.014570  [25664/60000]\n",
      "loss: 2.022108  [32064/60000]\n",
      "loss: 1.984013  [38464/60000]\n",
      "loss: 2.021985  [44864/60000]\n",
      "loss: 1.931021  [51264/60000]\n",
      "loss: 1.905525  [57664/60000]\n",
      "Test Error: \n",
      " Accuracy: 58.1%, Avg loss: 1.884229 \n",
      "\n",
      "Epoch 3\n",
      "-------------------------------\n",
      "loss: 1.949434  [   64/60000]\n",
      "loss: 1.793685  [ 6464/60000]\n",
      "loss: 1.757614  [12864/60000]\n",
      "loss: 1.783540  [19264/60000]\n",
      "loss: 1.736668  [25664/60000]\n",
      "loss: 1.730875  [32064/60000]\n",
      "loss: 1.655429  [38464/60000]\n",
      "loss: 1.550225  [44864/60000]\n",
      "loss: 1.592694  [51264/60000]\n",
      "loss: 1.594403  [57664/60000]\n",
      "Test Error: \n",
      " Accuracy: 61.3%, Avg loss: 1.517092 \n",
      "\n",
      "Epoch 4\n",
      "-------------------------------\n",
      "loss: 1.374022  [   64/60000]\n",
      "loss: 1.411453  [ 6464/60000]\n",
      "loss: 1.512055  [12864/60000]\n",
      "loss: 1.441101  [19264/60000]\n",
      "loss: 1.358116  [25664/60000]\n",
      "loss: 1.342119  [32064/60000]\n",
      "loss: 1.367634  [38464/60000]\n",
      "loss: 1.278264  [44864/60000]\n",
      "loss: 1.281701  [51264/60000]\n",
      "loss: 1.284085  [57664/60000]\n",
      "Test Error: \n",
      " Accuracy: 63.8%, Avg loss: 1.249284 \n",
      "\n",
      "Epoch 5\n",
      "-------------------------------\n",
      "loss: 1.342040  [   64/60000]\n",
      "loss: 1.183993  [ 6464/60000]\n",
      "loss: 1.140659  [12864/60000]\n",
      "loss: 1.270293  [19264/60000]\n",
      "loss: 1.220483  [25664/60000]\n",
      "loss: 1.096112  [32064/60000]\n",
      "loss: 1.206182  [38464/60000]\n",
      "loss: 1.180066  [44864/60000]\n",
      "loss: 1.128831  [51264/60000]\n",
      "loss: 1.046451  [57664/60000]\n",
      "Test Error: \n",
      " Accuracy: 64.6%, Avg loss: 1.084398 \n",
      "\n",
      "Epoch 6\n",
      "-------------------------------\n",
      "loss: 1.214060  [   64/60000]\n",
      "loss: 1.077175  [ 6464/60000]\n",
      "loss: 1.043869  [12864/60000]\n",
      "loss: 0.989591  [19264/60000]\n",
      "loss: 0.973175  [25664/60000]\n",
      "loss: 1.057179  [32064/60000]\n",
      "loss: 1.096913  [38464/60000]\n",
      "loss: 1.013484  [44864/60000]\n",
      "loss: 0.980640  [51264/60000]\n",
      "loss: 1.035402  [57664/60000]\n",
      "Test Error: \n",
      " Accuracy: 66.5%, Avg loss: 0.977379 \n",
      "\n",
      "Epoch 7\n",
      "-------------------------------\n",
      "loss: 0.851237  [   64/60000]\n",
      "loss: 0.975710  [ 6464/60000]\n",
      "loss: 1.011512  [12864/60000]\n",
      "loss: 0.957486  [19264/60000]\n",
      "loss: 0.892103  [25664/60000]\n",
      "loss: 0.918712  [32064/60000]\n",
      "loss: 0.758275  [38464/60000]\n",
      "loss: 0.884505  [44864/60000]\n",
      "loss: 0.969464  [51264/60000]\n",
      "loss: 0.898302  [57664/60000]\n",
      "Test Error: \n",
      " Accuracy: 67.8%, Avg loss: 0.905571 \n",
      "\n",
      "Epoch 8\n",
      "-------------------------------\n",
      "loss: 0.754858  [   64/60000]\n",
      "loss: 0.806142  [ 6464/60000]\n",
      "loss: 1.037627  [12864/60000]\n",
      "loss: 0.904309  [19264/60000]\n",
      "loss: 0.828860  [25664/60000]\n",
      "loss: 0.843420  [32064/60000]\n",
      "loss: 0.919880  [38464/60000]\n",
      "loss: 1.002453  [44864/60000]\n",
      "loss: 0.737617  [51264/60000]\n",
      "loss: 0.833104  [57664/60000]\n",
      "Test Error: \n",
      " Accuracy: 68.8%, Avg loss: 0.853780 \n",
      "\n",
      "Epoch 9\n",
      "-------------------------------\n",
      "loss: 0.767071  [   64/60000]\n",
      "loss: 0.820472  [ 6464/60000]\n",
      "loss: 0.864988  [12864/60000]\n",
      "loss: 0.878906  [19264/60000]\n",
      "loss: 0.745696  [25664/60000]\n",
      "loss: 0.728121  [32064/60000]\n",
      "loss: 0.738431  [38464/60000]\n",
      "loss: 0.591888  [44864/60000]\n",
      "loss: 0.711879  [51264/60000]\n",
      "loss: 1.022586  [57664/60000]\n",
      "Test Error: \n",
      " Accuracy: 69.1%, Avg loss: 0.815765 \n",
      "\n",
      "Epoch 10\n",
      "-------------------------------\n",
      "loss: 0.696129  [   64/60000]\n",
      "loss: 0.780230  [ 6464/60000]\n",
      "loss: 0.786535  [12864/60000]\n",
      "loss: 0.800176  [19264/60000]\n",
      "loss: 0.850387  [25664/60000]\n",
      "loss: 0.820200  [32064/60000]\n",
      "loss: 0.901150  [38464/60000]\n",
      "loss: 0.712870  [44864/60000]\n",
      "loss: 0.669301  [51264/60000]\n",
      "loss: 0.857772  [57664/60000]\n",
      "Test Error: \n",
      " Accuracy: 71.1%, Avg loss: 0.784518 \n",
      "\n",
      "Done!\n"
     ]
    }
   ],
   "source": [
    "loss_fn = nn.CrossEntropyLoss()\n",
    "optimizer = torch.optim.SGD(model.parameters(), lr=learning_rate)\n",
    "\n",
    "epochs = 10\n",
    "for t in range(epochs):\n",
    "    print(f\"Epoch {t+1}\\n-------------------------------\")\n",
    "    train_loop(train_dataloader, model, loss_fn, optimizer)\n",
    "    test_loop(test_dataloader, model, loss_fn)\n",
    "print(\"Done!\")"
   ]
  },
  {
   "cell_type": "code",
   "execution_count": null,
   "metadata": {},
   "outputs": [],
   "source": []
  }
 ],
 "metadata": {
  "kernelspec": {
   "display_name": "pytorchstudy",
   "language": "python",
   "name": "python3"
  },
  "language_info": {
   "codemirror_mode": {
    "name": "ipython",
    "version": 3
   },
   "file_extension": ".py",
   "mimetype": "text/x-python",
   "name": "python",
   "nbconvert_exporter": "python",
   "pygments_lexer": "ipython3",
   "version": "3.10.16"
  }
 },
 "nbformat": 4,
 "nbformat_minor": 2
}
